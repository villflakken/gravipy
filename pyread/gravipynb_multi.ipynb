{
 "cells": [
  {
   "cell_type": "code",
   "execution_count": 1,
   "metadata": {},
   "outputs": [
    {
     "name": "stdout",
     "output_type": "stream",
     "text": [
      "Initialization time: 0.02 seconds\n"
     ]
    },
    {
     "name": "stderr",
     "output_type": "stream",
     "text": [
      "No traceback available to show.\n"
     ]
    }
   ],
   "source": [
    "import sys, os, glob, time\n",
    "import numpy as N\n",
    "import subprocess as sp\n",
    "import pylab as pl\n",
    "\n",
    "from mpl_toolkits.mplot3d import Axes3D\n",
    "from matplotlib import rc\n",
    "rc('font',**{'family':'serif'})\n",
    "time_init_start = time.time()\n",
    "\n",
    "# ==============================================\n",
    "# Read.& proc. toolkit for data sets' structure.\n",
    "# ==============================================\n",
    "from read_usertools import UserTools\n",
    "\n",
    "# ==============================================\n",
    "# Read.& proc. data sets' visualisation tools.\n",
    "# ==============================================\n",
    "from read_plotdoc import Plotter\n",
    "\n",
    "# ==============================================\n",
    "# Reading toolkit for data sets' structure.\n",
    "# ==============================================\n",
    "from read_misctools import MiscTools\n",
    "\n",
    "# ==============================================\n",
    "# File interpreters for read.py's interface.\n",
    "# ==============================================\n",
    "from read_sifters import Sifters\n",
    "\n",
    "# ==============================================\n",
    "# Reading procedure for data sets' structure.\n",
    "# ==============================================\n",
    "from read_procedures import readProcedures\n",
    "\n",
    "# ==============================================\n",
    "# Argument interpreter for read.py's interface.\n",
    "# ==============================================\n",
    "from read_args import readArgs\n",
    "\n",
    "# ==============================================\n",
    "# Indra data sets' reading MO.\n",
    "# ==============================================\n",
    "from read import readDo\n",
    "\n",
    "def read_ini( what=\"pos\", indraN=0, iA=0, iB=0, subfolder=None, fftfile=None, \\\n",
    "              tmpfolder=False, sortIDs=False, lessprint=True,                 \\\n",
    "              box_params=False, plotdim=2,                                    \\\n",
    "              w2f=False, plotdata=False,                                      \\\n",
    "              outputpath=False,                                               \\\n",
    "              origamipath=False                                               ):\n",
    "    \"\"\"\n",
    "    Simplified read function for importing externally;\n",
    "    initializes class for the user.\n",
    "    # WIP !\n",
    "    \"\"\"\n",
    "    data_params = \\\n",
    "        {\n",
    "            # Data structure parameters:\n",
    "               \"what\" :( list(what) ),\n",
    "             \"indraN\" :( indraN     ),\n",
    "                 \"iA\" :( iA         ),\n",
    "                 \"iB\" :( iB         ),\n",
    "          \"subfolder\" :( subfolder  ),   \n",
    "            \"fftfile\" :( fftfile    ),\n",
    "            # Reading options:\n",
    "          \"tmpfolder\" :( tmpfolder  ),\n",
    "            \"sortIDs\" :( sortIDs    ),\n",
    "          \"lessprint\" :( lessprint  ),\n",
    "            \n",
    "            # Extracts data from a coordinate box at positions specified:\n",
    "         \"box_params\" :( box_params ), \n",
    "            # Apply floats as \"([min,max], [min,max], [min,max])\" in Mpc/h units,\n",
    "            # respectively for directions x, y, z. # Turned off w/: None/False\n",
    "            \"plotdim\" :( plotdim    ), # Dimensions projected in plot\n",
    "            \n",
    "            # Write 2 file: Probably a bad idea ...\n",
    "                \"w2f\" :( w2f        ),\n",
    "           \"plotdata\" :( plotdata   ),\n",
    "            # Desired output filepath, \n",
    "            # or False (program storing to user's own folder).\n",
    "         \"outputpath\" :( outputpath ),\n",
    "            # Origami functionality\n",
    "        \"origamipath\" :( origamipath)\n",
    "        }\n",
    "\n",
    "    tmp = sp.call('clear',shell=True)\n",
    "\n",
    "    ini = readDo()                # Initialize!\n",
    "    ini.read_params = data_params # Set params\n",
    "    \" 1. \"\n",
    "    ini.callArgsChecker()         # Verify values\n",
    "    \" 2. \"\n",
    "    return ini.beginReading()     # Do the thing\n",
    "\n",
    "time_init_end = time.time()\n",
    "\n",
    "print \"Initialization time: {0:.2f} seconds\".format((time_init_end - time_init_start))"
   ]
  },
  {
   "cell_type": "code",
   "execution_count": 2,
   "metadata": {
    "scrolled": false
   },
   "outputs": [
    {
     "name": "stdout",
     "output_type": "stream",
     "text": [
      "\n",
      " Total parameters loaded: 14\n",
      " Parameters initialized with values:\n",
      "        what : ['pos']\n",
      "      indraN :      2\n",
      "          iA :      0\n",
      "          iB :      0\n",
      "   subfolder : (0, 63)\n",
      "   tmpfolder :   True\n",
      "     sortIDs :  False\n",
      "   lessprint :   True\n",
      "         w2f :  False\n",
      "    plotdata :  False\n",
      "  outputpath :  False\n",
      "  box_params :  False\n",
      "     plotdim :      2\n",
      " origamipath :  False\n",
      "\n",
      "            All necessary parameters have been set. Continuing...\n",
      "            \n",
      "        Currently reading:\n",
      "        Data type   :    pos   (/out of sets:   'pos'    )\n",
      "        indraN      :      2             ( /:     2      )\n",
      "        iA          :      0             ( /:     0      )\n",
      "        iB          :      0             ( /:     0      )\n",
      "        subfolder   :      0             ( /:  (0, 63)   )\n",
      "        \n",
      "  * Accessing file:\tindra2tmp/snap0/file.0   (pos) ...\n",
      "  * Accessing file:\tindra2tmp/snap0/file.50  (pos) ...\n",
      "  * Accessing file:\tindra2tmp/snap0/file.100 (pos) ...\n",
      "  * Accessing file:\tindra2tmp/snap0/file.150 (pos) ...\n",
      "  * Accessing file:\tindra2tmp/snap0/file.200 (pos) ...\n",
      "  * Accessing file:\tindra2tmp/snap0/file.250 (pos) ...\n",
      "  * Accessing file:\tindra2tmp/snap0/file.255 (pos) ...\n",
      "\n",
      "    Byte sifter completed. \n",
      "    Max particle number in a file:      4260666\n",
      "    Sum particles read / Tot. in sim.:  1.07374e+09 / 1.07374e+09 ( 100% )\n",
      "    Maximum indra particles read?:      True\n",
      "    Size of matrices IDsA, posA, velA, NpartA = 32.00 GiBs\n",
      "\n",
      "    Finished reading 'pos' of files, indra2, iA=0, iB=0, snapshot=0\n",
      "\n",
      "IDsA (sorted):\n",
      "[         1          2          3 ..., 1073741822 1073741823 1073741824]\n",
      "\n",
      "N.arange(int(1024**3)):\n",
      "[         0          1          2 ..., 1073741821 1073741822 1073741823]\n",
      "IDs array size: 8.00 GiBs\n",
      "is IDs array == N.arange(int(1024**3)+1)...? : True\n",
      "pos array size: 12.00 GiBs \n",
      "\n",
      "(1073741824, 3)\n",
      "[[  9.00913954e-01   9.60251391e-01   9.68786359e-01]\n",
      " [  9.02239680e-01   9.49575543e-01   1.93032384e+00]\n",
      " [  1.89946294e+00   9.61857200e-01   1.94261289e+00]\n",
      " ..., \n",
      " [  1.89363348e+00   1.95108616e+00   9.99973511e+02]\n",
      " [  1.88832068e+00   9.82135415e-01   9.99983093e+02]\n",
      " [  8.98513556e-01   9.63343918e-01   9.99974060e+02]]\n"
     ]
    },
    {
     "ename": "SystemExit",
     "evalue": "\ndbug",
     "output_type": "error",
     "traceback": [
      "An exception has occurred, use %tb to see the full traceback.\n",
      "\u001b[0;31mSystemExit\u001b[0m\u001b[0;31m:\u001b[0m \ndbug\n"
     ]
    },
    {
     "name": "stderr",
     "output_type": "stream",
     "text": [
      "/home/idies/anaconda3/envs/py27/lib/python2.7/site-packages/IPython/core/interactiveshell.py:2889: UserWarning: To exit: use 'exit', 'quit', or Ctrl-D.\n",
      "  warn(\"To exit: use 'exit', 'quit', or Ctrl-D.\", stacklevel=1)\n"
     ]
    }
   ],
   "source": [
    "\" The simplified function call: \"\n",
    "# =============================\n",
    "\n",
    "time_binread_start = time.time()\n",
    "\n",
    "IDs, pos = read_ini(\n",
    "                          what       = [\"pos\"], # \"vel\", \"fof\", etc \n",
    "                          indraN     = 2,\n",
    "                          iA         = 0,\n",
    "                          iB         = 0,\n",
    "                          subfolder  = (0,63),\n",
    "                          tmpfolder  = True,\n",
    "                          box_params = ([0.,60.], [0.,60.], [0.,60.]),\n",
    "                          plotdata   = True,\n",
    "                          plotdim    = (2,3)\n",
    "                        )\n",
    "do = UserTools() # Initialize toolkit\n",
    "\n",
    "time_binread_end = time.time()\n",
    "\n",
    "print \"Binary reading time: {0:.2f} seconds\".format((time_binread_end - time_binread_start))"
   ]
  },
  {
   "cell_type": "code",
   "execution_count": 3,
   "metadata": {},
   "outputs": [
    {
     "ename": "SystemExit",
     "evalue": "\ndbug",
     "output_type": "error",
     "traceback": [
      "\u001b[0;31m\u001b[0m",
      "\u001b[0;31mSystemExit\u001b[0mTraceback (most recent call last)",
      "\u001b[0;32m<ipython-input-2-0d2c450ff2f1>\u001b[0m in \u001b[0;36m<module>\u001b[0;34m()\u001b[0m\n\u001b[1;32m     10\u001b[0m                           \u001b[0miB\u001b[0m         \u001b[0;34m=\u001b[0m \u001b[0;36m0\u001b[0m\u001b[0;34m,\u001b[0m\u001b[0;34m\u001b[0m\u001b[0m\n\u001b[1;32m     11\u001b[0m                           \u001b[0msubfolder\u001b[0m  \u001b[0;34m=\u001b[0m \u001b[0;34m(\u001b[0m\u001b[0;36m0\u001b[0m\u001b[0;34m,\u001b[0m\u001b[0;36m63\u001b[0m\u001b[0;34m)\u001b[0m\u001b[0;34m,\u001b[0m\u001b[0;34m\u001b[0m\u001b[0m\n\u001b[0;32m---> 12\u001b[0;31m                           \u001b[0mtmpfolder\u001b[0m  \u001b[0;34m=\u001b[0m \u001b[0mTrue\u001b[0m\u001b[0;34m\u001b[0m\u001b[0m\n\u001b[0m\u001b[1;32m     13\u001b[0m                         )\n\u001b[1;32m     14\u001b[0m \u001b[0mdo\u001b[0m \u001b[0;34m=\u001b[0m \u001b[0mUserTools\u001b[0m\u001b[0;34m(\u001b[0m\u001b[0;34m)\u001b[0m \u001b[0;31m# Initialize toolkit\u001b[0m\u001b[0;34m\u001b[0m\u001b[0m\n",
      "\u001b[0;32m<ipython-input-1-ba8ebaea7021>\u001b[0m in \u001b[0;36mread_ini\u001b[0;34m(what, indraN, iA, iB, subfolder, fftfile, tmpfolder, sortIDs, lessprint, box_params, plotdim, w2f, plotdata, outputpath, origamipath)\u001b[0m\n\u001b[1;32m     82\u001b[0m     \u001b[0mini\u001b[0m\u001b[0;34m.\u001b[0m\u001b[0mcallArgsChecker\u001b[0m\u001b[0;34m(\u001b[0m\u001b[0;34m)\u001b[0m         \u001b[0;31m# Verify values\u001b[0m\u001b[0;34m\u001b[0m\u001b[0m\n\u001b[1;32m     83\u001b[0m     \u001b[0;34m\" 2. \"\u001b[0m\u001b[0;34m\u001b[0m\u001b[0m\n\u001b[0;32m---> 84\u001b[0;31m     \u001b[0;32mreturn\u001b[0m \u001b[0mini\u001b[0m\u001b[0;34m.\u001b[0m\u001b[0mbeginReading\u001b[0m\u001b[0;34m(\u001b[0m\u001b[0;34m)\u001b[0m     \u001b[0;31m# Do the thing\u001b[0m\u001b[0;34m\u001b[0m\u001b[0m\n\u001b[0m\u001b[1;32m     85\u001b[0m \u001b[0;34m\u001b[0m\u001b[0m\n\u001b[1;32m     86\u001b[0m \u001b[0mtime_init_end\u001b[0m \u001b[0;34m=\u001b[0m \u001b[0mtime\u001b[0m\u001b[0;34m.\u001b[0m\u001b[0mtime\u001b[0m\u001b[0;34m(\u001b[0m\u001b[0;34m)\u001b[0m\u001b[0;34m\u001b[0m\u001b[0m\n",
      "\u001b[0;32m/home/idies/workspace/persistent/gravipy_multi/pyread/read.pyc\u001b[0m in \u001b[0;36mbeginReading\u001b[0;34m(self)\u001b[0m\n\u001b[1;32m    161\u001b[0m \u001b[0;34m\u001b[0m\u001b[0m\n\u001b[1;32m    162\u001b[0m                             \u001b[0;34m\" Task function call: \"\u001b[0m\u001b[0;34m\u001b[0m\u001b[0m\n\u001b[0;32m--> 163\u001b[0;31m                             \u001b[0mparsed_data\u001b[0m \u001b[0;34m=\u001b[0m \u001b[0mself\u001b[0m\u001b[0;34m.\u001b[0m\u001b[0maction\u001b[0m\u001b[0;34m[\u001b[0m\u001b[0mself\u001b[0m\u001b[0;34m.\u001b[0m\u001b[0mwhat\u001b[0m\u001b[0;34m]\u001b[0m\u001b[0;34m(\u001b[0m\u001b[0;34m)\u001b[0m\u001b[0;34m\u001b[0m\u001b[0m\n\u001b[0m\u001b[1;32m    164\u001b[0m                             \u001b[0;34m\" >: Main component of program. \"\u001b[0m\u001b[0;34m\u001b[0m\u001b[0m\n\u001b[1;32m    165\u001b[0m \u001b[0;34m\u001b[0m\u001b[0m\n",
      "\u001b[0;32m/home/idies/workspace/persistent/gravipy_multi/pyread/read_procedures.pyc\u001b[0m in \u001b[0;36mread_posvel\u001b[0;34m(self)\u001b[0m\n\u001b[1;32m    157\u001b[0m             \u001b[0;32mprint\u001b[0m \u001b[0mposA\u001b[0m\u001b[0;34m.\u001b[0m\u001b[0mshape\u001b[0m\u001b[0;34m\u001b[0m\u001b[0m\n\u001b[1;32m    158\u001b[0m             \u001b[0;32mprint\u001b[0m \u001b[0mposA\u001b[0m\u001b[0;34m\u001b[0m\u001b[0m\n\u001b[0;32m--> 159\u001b[0;31m             \u001b[0msys\u001b[0m\u001b[0;34m.\u001b[0m\u001b[0mexit\u001b[0m\u001b[0;34m(\u001b[0m\u001b[0;34m\"\\ndbug\"\u001b[0m\u001b[0;34m)\u001b[0m\u001b[0;34m\u001b[0m\u001b[0m\n\u001b[0m\u001b[1;32m    160\u001b[0m             \u001b[0;32mreturn\u001b[0m \u001b[0mIDsA\u001b[0m\u001b[0;34m,\u001b[0m \u001b[0mposA\u001b[0m\u001b[0;34m,\u001b[0m \u001b[0mscalefA\u001b[0m\u001b[0;34m[\u001b[0m\u001b[0;36m0\u001b[0m\u001b[0;34m]\u001b[0m\u001b[0;34m,\u001b[0m \u001b[0mrsA\u001b[0m\u001b[0;34m[\u001b[0m\u001b[0;36m0\u001b[0m\u001b[0;34m]\u001b[0m\u001b[0;34m\u001b[0m\u001b[0m\n\u001b[1;32m    161\u001b[0m \u001b[0;34m\u001b[0m\u001b[0m\n",
      "\u001b[0;31mSystemExit\u001b[0m: \ndbug"
     ]
    }
   ],
   "source": []
  },
  {
   "cell_type": "code",
   "execution_count": null,
   "metadata": {
    "collapsed": true
   },
   "outputs": [],
   "source": [
    "\n",
    "# ------------------------------ #\n",
    "# Here begins data manipulation! #\n",
    "# ------------------------------ #\n"
   ]
  }
 ],
 "metadata": {
  "kernelspec": {
   "display_name": "Python 2",
   "language": "python",
   "name": "python2"
  },
  "language_info": {
   "codemirror_mode": {
    "name": "ipython",
    "version": 2
   },
   "file_extension": ".py",
   "mimetype": "text/x-python",
   "name": "python",
   "nbconvert_exporter": "python",
   "pygments_lexer": "ipython2",
   "version": "2.7.13"
  }
 },
 "nbformat": 4,
 "nbformat_minor": 2
}
