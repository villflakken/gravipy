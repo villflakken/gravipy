{
 "cells": [
  {
   "cell_type": "code",
   "execution_count": 1,
   "metadata": {
    "collapsed": true
   },
   "outputs": [],
   "source": [
    "import numpy as N\n",
    "import pylab as M, matplotlib.pyplot as plt"
   ]
  },
  {
   "cell_type": "code",
   "execution_count": 2,
   "metadata": {
    "collapsed": true
   },
   "outputs": [],
   "source": [
    "numsnaps=64\n",
    "numfiles=256\n",
    "nparticles=1024\n",
    "boxsize=1000."
   ]
  },
  {
   "cell_type": "code",
   "execution_count": 3,
   "metadata": {
    "collapsed": true
   },
   "outputs": [],
   "source": [
    "datadir = '/home/idies/workspace/indra/2_0_0/'"
   ]
  },
  {
   "cell_type": "code",
   "execution_count": 4,
   "metadata": {
    "collapsed": true
   },
   "outputs": [],
   "source": [
    "snapnum = 63\n",
    "sn = \"%03d\" % snapnum\n",
    "filename = datadir+'/snapdir_'+sn+'/snapshot_'+sn+'.'"
   ]
  },
  {
   "cell_type": "code",
   "execution_count": 5,
   "metadata": {},
   "outputs": [
    {
     "name": "stdout",
     "output_type": "stream",
     "text": [
      "finished reading particles\n"
     ]
    }
   ],
   "source": [
    "pos = N.empty((nparticles**3,3),N.float32)\n",
    "vel = N.empty((nparticles**3,3),N.float32)\n",
    "ids = N.empty((nparticles**3),N.int64)\n",
    "istart = 0\n",
    "for i in N.arange(0, numfiles):\n",
    "    file=filename+str(i)\n",
    "    f=open(file, 'rb')\n",
    "    \n",
    "    header_size = N.fromfile(f,N.int32,1)[0] # = 256: error catch here?\n",
    "    numpart = N.fromfile(f,N.int32,6)\n",
    "    npart = numpart[1] # number of particles in this file\n",
    "    mass = N.fromfile(f,N.float64,6)\n",
    "    pmass = mass[1] # in units of 10^10 solar masses?\n",
    "    scalefact,redshift = N.fromfile(f,N.float64,2)\n",
    "    flag_sfr,flag_feedback = N.fromfile(f,N.int32,2)\n",
    "    numpart_tot = N.fromfile(f,N.int32,6)\n",
    "    ntotal = numpart_tot[1]\n",
    "    flag_cooling,num_files = N.fromfile(f,N.int32,2)\n",
    "    boxsize,omega0,omegal,hubble = N.fromfile(f,N.float64,4)\n",
    "    flag_stellarage,flag_metals,hashtabsize = N.fromfile(f,N.int32,3)\n",
    "    # read rest of header_size + 2 dummy integers:\n",
    "    dummy = N.fromfile(f,N.int32,23)\n",
    "    \n",
    "    thispos = N.fromfile(f,N.float32,3*npart)\n",
    "    thispos = N.reshape(thispos, [npart, 3])\n",
    "#    thispos = thispos.astype(N.float) # needed?\n",
    "    \n",
    "    # read velocities\n",
    "    dummy = N.fromfile(f,N.int32,2)\n",
    "    thisvel = N.fromfile(f,N.float32,3*npart)\n",
    "    thisvel = N.reshape(thisvel, [npart, 3])\n",
    "\n",
    "    # read IDs\n",
    "    dummy = N.fromfile(f,N.int32,2)\n",
    "    thisID = N.fromfile(f,N.int64,npart)\n",
    "    \n",
    "    f.close()\n",
    "    \n",
    "    pos[istart:(istart+npart),:] = thispos\n",
    "    vel[istart:(istart+npart),:] = thisvel\n",
    "    ids[istart:(istart+npart)] = thisID\n",
    "    \n",
    "    istart = istart + npart\n",
    "\n",
    "print 'finished reading particles'"
   ]
  },
  {
   "cell_type": "code",
   "execution_count": 6,
   "metadata": {
    "collapsed": true
   },
   "outputs": [],
   "source": [
    "# Sort pos and vel by the particle IDs (takes a while)\n",
    "index = N.argsort(ids)\n",
    "pos = pos[index]\n",
    "vel = vel[index]\n",
    "#ids = ids[index]-1"
   ]
  },
  {
   "cell_type": "code",
   "execution_count": 7,
   "metadata": {
    "collapsed": true
   },
   "outputs": [],
   "source": [
    "tabfile = datadir+'/snapdir_'+sn+'/group_tab_'+sn+'.'\n",
    "idsfile = datadir+'/snapdir_'+sn+'/group_ids_'+sn+'.'"
   ]
  },
  {
   "cell_type": "code",
   "execution_count": 8,
   "metadata": {},
   "outputs": [
    {
     "name": "stdout",
     "output_type": "stream",
     "text": [
      "finished reading halo table\n"
     ]
    }
   ],
   "source": [
    "# Read group_tab: gives # particles in each halo (groupLen)\n",
    "file = tabfile+str(0)\n",
    "f = open(file,'rb')\n",
    "Ngroups, Nids, TotNgroups, NTask = N.fromfile(f, N.int32, 4)\n",
    "f.close()\n",
    "groupLen = N.zeros(TotNgroups,dtype=N.int32)\n",
    "groupOffset = N.zeros(TotNgroups,dtype=N.int32) # IGNORE? (define later from groupLen... or want initial zeros...)\n",
    "\n",
    "# Don't read if no groups...\n",
    "if TotNgroups > 0:\n",
    "# loop through numfiles\n",
    "    istart = 0\n",
    "    for i in N.arange(0, NTask):\n",
    "        file=tabfile+str(i)\n",
    "        f=open(file, 'rb')\n",
    "    \n",
    "        Ngroups, Nids, TotNgroups, NTask = N.fromfile(f, N.int32, 4)\n",
    "        if Ngroups > 0:\n",
    "            locLen = N.fromfile(f,N.int32,Ngroups)\n",
    "            locOffset = N.fromfile(f,N.int32,Ngroups) # SKIP THIS?\n",
    "            groupLen[istart:(istart+Ngroups)] = locLen\n",
    "            groupOffset[istart:(istart+Ngroups)] = locOffset #SKIP THIS?\n",
    "            istart = istart + Ngroups\n",
    "        else: print 'No groups in file %d' % i\n",
    "        f.close()\n",
    "print 'finished reading halo table'"
   ]
  },
  {
   "cell_type": "code",
   "execution_count": 9,
   "metadata": {
    "collapsed": true
   },
   "outputs": [],
   "source": [
    "# Offsets not correct, but can redefine using groupLen (probably shouldn't read in first place)\n",
    "groupOffset = N.zeros(TotNgroups,dtype=N.int32)\n",
    "groupOffset[1:] = N.cumsum(groupLen[0:TotNgroups-1])"
   ]
  },
  {
   "cell_type": "code",
   "execution_count": 10,
   "metadata": {},
   "outputs": [
    {
     "name": "stdout",
     "output_type": "stream",
     "text": [
      "finished reading group particle IDs\n"
     ]
    }
   ],
   "source": [
    "# Read group_ids (must read group_tab first)\n",
    "if TotNgroups > 0:\n",
    "    TotNids = N.sum(groupLen,dtype=N.int64)\n",
    "    ids = N.zeros(TotNids,dtype=N.int64)\n",
    "# loop through numfiles (NTask)\n",
    "    istart = 0\n",
    "    for i in N.arange(0,NTask):\n",
    "        file = idsfile+str(i)\n",
    "        f = open(file,'rb')\n",
    "\n",
    "        Ngroups, Nids, TotNgroups, NTask = N.fromfile(f, N.int32, 4)\n",
    "        if Nids > 0:\n",
    "            locIDs = N.fromfile(f,N.int64,Nids)\n",
    "            # do the bitshifting...\n",
    "            ids[istart:(istart+Nids)] = N.bitwise_and(locIDs[:], (N.int64(1)<<34) - 1)\n",
    "            istart = istart + Nids\n",
    "        f.close()\n",
    "print 'finished reading group particle IDs'"
   ]
  },
  {
   "cell_type": "code",
   "execution_count": 11,
   "metadata": {
    "collapsed": true
   },
   "outputs": [],
   "source": [
    "# Ids of halo i are:\n",
    "i = 3\n",
    "haloIDs = ids[groupOffset[i]:groupOffset[i]+groupLen[i]]"
   ]
  },
  {
   "cell_type": "code",
   "execution_count": 15,
   "metadata": {},
   "outputs": [
    {
     "data": {
      "text/plain": [
       "(56, 70)"
      ]
     },
     "execution_count": 15,
     "metadata": {},
     "output_type": "execute_result"
    },
    {
     "data": {
      "image/png": "[encoded data removed]",
      "text/plain": [
       "<matplotlib.figure.Figure at 0x7f12457a4ed0>"
      ]
     },
     "metadata": {},
     "output_type": "display_data"
    }
   ],
   "source": [
    "# Plot it! Let's hope it doesn't cross the box boundary!\n",
    "plt.figure(figsize=(10,10))\n",
    "plt.plot(pos[haloIDs,0],pos[haloIDs,1],'m.')\n",
    "plt.xlabel('x (Mpc/h)')\n",
    "plt.ylabel('y (Mpc/h)')\n",
    "plt.axis('equal')"
   ]
  },
  {
   "cell_type": "code",
   "execution_count": null,
   "metadata": {},
   "outputs": [],
   "source": [
    "# What else is around it?\n",
    "subcube = N.where((pos[:,0] < N.max(pos[haloIDs,0])) & (pos[:,1] < N.max(pos[haloIDs,1])) & (pos[:,2] < N.max(pos[haloIDs,2])) \\\n",
    "                 & (pos[:,0] > N.min(pos[haloIDs,0])) & (pos[:,1] > N.min(pos[haloIDs,1])) & (pos[:,2] > N.min(pos[haloIDs,2])))[0]\n",
    "plt.figure(figsize=(10,10))\n",
    "plt.plot(pos[subcube,0],pos[subcube,1],'k.')\n",
    "plt.plot(pos[haloIDs,0],pos[haloIDs,1],'m.')\n",
    "plt.xlabel('x (Mpc/h)')\n",
    "plt.ylabel('y (Mpc/h)')"
   ]
  },
  {
   "cell_type": "code",
   "execution_count": null,
   "metadata": {
    "collapsed": true
   },
   "outputs": [],
   "source": [
    "# What are the ORIGAMI tags of this halo?\n",
    "orifile = '/home/idies/workspace/indra/origami/testrun/output_i200tmp_sf63/positions_i200tmp_sf63_test'\n",
    "f = open(orifile,'rb')\n",
    "npart = N.fromfile(f,N.int32,1)\n",
    "tag = N.fromfile(f,N.int8,npart)\n",
    "f.close()"
   ]
  },
  {
   "cell_type": "code",
   "execution_count": null,
   "metadata": {},
   "outputs": [],
   "source": [
    "plt.figure(figsize=(10,10))\n",
    "plt.plot(pos[haloIDs[tag[haloIDs] == 0],0],pos[haloIDs[tag[haloIDs]==0],1],'k.')\n",
    "plt.plot(pos[haloIDs[tag[haloIDs] == 1],0],pos[haloIDs[tag[haloIDs]==1],1],'b.')\n",
    "plt.plot(pos[haloIDs[tag[haloIDs] == 2],0],pos[haloIDs[tag[haloIDs]==2],1],'m.')\n",
    "plt.plot(pos[haloIDs[tag[haloIDs] == 3],0],pos[haloIDs[tag[haloIDs]==3],1],'r.')\n",
    "plt.xlabel('x (Mpc/h)')\n",
    "plt.ylabel('y (Mpc/h)')"
   ]
  },
  {
   "cell_type": "code",
   "execution_count": null,
   "metadata": {
    "collapsed": true
   },
   "outputs": [],
   "source": [
    "# Looks like there are particles from nearby halos included! Does SUBFIND clean that up?\n",
    "# TBD!\n",
    "# (We may never know until we run SUBFIND again!!!)"
   ]
  },
  {
   "cell_type": "code",
   "execution_count": null,
   "metadata": {},
   "outputs": [],
   "source": [
    "# 3D plot\n",
    "from mpl_toolkits.mplot3d import Axes3D\n",
    "fig = plt.figure(figsize=(10,10))\n",
    "ax = fig.add_subplot(111, projection='3d')\n",
    "#ax.scatter(pos[subcube,0],pos[subcube,1],pos[subcube,2],color='k',marker='.')\n",
    "for c, i in [('k', 0), ('b',1), ('m',2), ('r',3)]:\n",
    "    ax.scatter(pos[haloIDs[tag[haloIDs] == i],0],pos[haloIDs[tag[haloIDs]==i],1],\\\n",
    "               pos[haloIDs[tag[haloIDs] == i],2],marker='.',color=c)\n",
    "#ax.scatter(pos[haloIDs,0],pos[haloIDs,1],pos[haloIDs,2],color='m',marker='o')\n",
    "ax.set_xlabel('x (Mpc/h)')\n",
    "ax.set_ylabel('y (Mpc/h)')\n",
    "ax.set_zlabel('z (Mpc/h)')"
   ]
  },
  {
   "cell_type": "code",
   "execution_count": null,
   "metadata": {
    "collapsed": true
   },
   "outputs": [],
   "source": []
  }
 ],
 "metadata": {
  "kernelspec": {
   "display_name": "Python 2",
   "language": "python",
   "name": "python2"
  },
  "language_info": {
   "codemirror_mode": {
    "name": "ipython",
    "version": 2
   },
   "file_extension": ".py",
   "mimetype": "text/x-python",
   "name": "python",
   "nbconvert_exporter": "python",
   "pygments_lexer": "ipython2",
   "version": "2.7.13"
  }
 },
 "nbformat": 4,
 "nbformat_minor": 2
}
